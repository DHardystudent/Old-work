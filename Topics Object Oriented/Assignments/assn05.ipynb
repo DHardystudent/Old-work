{
 "cells": [
  {
   "cell_type": "markdown",
   "id": "b5214ed3-f3c4-4413-80c0-b9bd957f49de",
   "metadata": {},
   "source": [
    "CS417 Assignment 05\n",
    "---\n",
    "More Fun With Python\n",
    "---\n",
    "\n",
    "# Problem 1(Easy) \n",
    "Write a function named `occurrences` in Python  that takes a list and some object returns the a new list that\n",
    "    contains the elements in the first list equal to the key.\n",
    "    "
   ]
  },
  {
   "cell_type": "code",
   "execution_count": null,
   "id": "19dd3781-6336-4ba4-af0a-ccce5efc85ee",
   "metadata": {
    "tags": []
   },
   "outputs": [],
   "source": [
    "def occurrences(list, obj):\n"
   ]
  },
  {
   "cell_type": "markdown",
   "id": "217a51f9-8ce4-490b-9f50-830d9720e32c",
   "metadata": {},
   "source": [
    "# Problem 2 (Easy)\n",
    "Write a function in Python named `numSmaller` that\n",
    "    given a parameter containing a list of size 1 or greater and some\n",
    "    numeric parameter returns the number of elements that are strictly\n",
    "    **less** than that number."
   ]
  },
  {
   "cell_type": "code",
   "execution_count": 1,
   "id": "3717c6f8-4078-44e5-bb70-c62bb7dae0fe",
   "metadata": {
    "tags": []
   },
   "outputs": [],
   "source": [
    "def numSmaller(list1, val):\n",
    "    cnt = 0\n",
    "    for x in list1:\n",
    "        if val<= x:\n",
    "            cnt = cnt + 1\n",
    "    return cnt"
   ]
  },
  {
   "cell_type": "markdown",
   "id": "ec4bda44-1b7b-4b4a-b08e-79b3b9bf6da5",
   "metadata": {},
   "source": [
    "# Problem 3 (Easy) \n",
    "Write a function in Python named `secondSmallest`\n",
    "    takes a list of size 1 or greater and returns the position of the\n",
    "    second smallest element of the list.   In the case, where the\n",
    "    smallest entry in the list occurs more than once, the second\n",
    "    occurrence of the item would be the second smallest entry.  For\n",
    "    example, in the list `[1,1,1,2,3]`, the position returned\n",
    "    would be 1.\n",
    "    \n",
    "    "
   ]
  },
  {
   "cell_type": "code",
   "execution_count": null,
   "id": "9f374dee-e226-4b3f-bedc-7e3c6d0e07a9",
   "metadata": {},
   "outputs": [],
   "source": [
    "def secondSmallest(list):\n",
    "    sml = 68607\n",
    "    spot = 0\n",
    "    for x in list:\n",
    "        if x < sml:\n",
    "            sml = x\n",
    "    index = list.index(sml)\n",
    "    return index"
   ]
  },
  {
   "cell_type": "markdown",
   "id": "e7f19b38-0935-44cd-888a-59c74efa7822",
   "metadata": {},
   "source": [
    "# Problem 4 (Very Easy) \n",
    "You are given a text file that contains the timetable for buses\n",
    "that travel a college campus.  The first line of the file\n",
    "contains the name for each stop on the bus system separated by\n",
    "colons.  Each following line contains the times using a 24-hour\n",
    "clock at which each bus in the system will arrive at a bus stop,\n",
    "also separated by colons.\n",
    "\n",
    "The timetable will have the following format:\n",
    "\n",
    "| BUS | Athens | Ardmore | Harvest| Huntsville| Athens|\n",
    "|-----|--------|---------|--------|-----------|-------|\n",
    "|48  | 0800 | 0830| 0845 | 0915 | 1015|\n",
    "|49  | 0830 | 0900| 0915 | 0945 | 1045|\n",
    "|50  | 0900 | 0930| 0945 | 1015 | 1115|\n",
    "\n",
    "Write a program in Python that reads this file and outputs a row\n",
    "for each bus stop, showing the times when a bus arrives at that\n",
    "stop, formated in a table (remember... someone has already done it for you)."
   ]
  },
  {
   "cell_type": "code",
   "execution_count": null,
   "id": "b68487ec-6192-471f-9d98-88b159e75067",
   "metadata": {},
   "outputs": [],
   "source": []
  },
  {
   "cell_type": "markdown",
   "id": "084de79a-313d-4a6d-abe3-ef6d1f7d2cdd",
   "metadata": {},
   "source": [
    "# Problem 5 (Medium) \n",
    "Continuing our theme of waiting on the bus, consider again the\n",
    "bus timetable from the previous question.  The first line of the\n",
    "file contains the name for each stop on the bus system separated\n",
    "by colons.  Each following line contains the times using a\n",
    "24-hour clock at which each bus in the system will arrive at a\n",
    "bus stop, also separated by colons.  A sample file is attached to\n",
    "this problem.\n",
    "\n",
    "Write a Python program that for enumerates each of the bus stops and\n",
    "departure times from that station with each value separated by a colon\n",
    "\n",
    "The output from your program should be in the following\n",
    "format:\n",
    "\n",
    "Athens: 0800:0830:0900\n",
    "\n",
    "Ardmore: 0830:0900:0930\n",
    "\n",
    "Harvest: 0845:0915:0945\n",
    "\n",
    "Huntsville: 0915:0945:1015\n",
    "\n",
    "Athens: 1015:1045:1115\n"
   ]
  },
  {
   "cell_type": "markdown",
   "id": "1330b167-5468-403e-8f9c-62659c4e1227",
   "metadata": {},
   "source": [
    "# Problem 6 (Medium)\n",
    "\n",
    "Craps is a dice game played at many casinos.  A player rolls a pair of normal six-sided dice.   If the initial roll is a 2, 3, or 12, you lose.   If the roll is a 7 or 11, you win.   Any initial role causes the player to \"roll for point\".  That is the player keeps rolling the dice until they roll a 7 or the initial roll (the point).   If you roll a 7, you lose.  You roll the point, you win.\n",
    "\n",
    "Write a full Python program in the cell below that runs multiple games of craps and computes the probability of winning.   Compute that dividing the number of wins by the number of games played.\n",
    "\n",
    "I will give 30 points extra credit on this assignment to anyone who figures out how to graphically display each dice roll as the program runs."
   ]
  },
  {
   "cell_type": "code",
   "execution_count": 9,
   "id": "edf37510",
   "metadata": {},
   "outputs": [
    {
     "name": "stdout",
     "output_type": "stream",
     "text": [
      "Wins 18\n",
      "Games 50\n",
      "The percentage of wins is  0.36\n"
     ]
    }
   ],
   "source": [
    "import random\n",
    "import sys\n",
    "def diceNumber():\n",
    "    # this will enable to select a\n",
    "    # random number from 1 to 6\n",
    "    die1 = random.randrange(1, 7)\n",
    "    die2 = random.randrange(1, 7)\n",
    "     \n",
    "    # returns the diceNumber values\n",
    "    # in the form of tuple\n",
    "    return (die1, die2) \n",
    "\n",
    "# -------------------------------- #\n",
    "cnt = 0\n",
    "wins = 0\n",
    "losses = 0\n",
    "while(cnt < 50):\n",
    "    value = diceNumber()\n",
    "    sum_of_dices = sum(value)\n",
    "    if sum_of_dices in (7, 11):\n",
    "        wins = wins + 1\n",
    "    # find if sum of dices is 2 , 3 , 12 to determine the result.\n",
    "    elif sum_of_dices in (2, 3, 12):\n",
    "        losses = losses + 1\n",
    "    else: \n",
    "        result = \"continue\"\n",
    "        currentpoint = sum_of_dices\n",
    "    while result == \"continue\":\n",
    "        value = diceNumber()\n",
    "        sum_of_dices = sum(value)\n",
    "     \n",
    "        if sum_of_dices == currentpoint:\n",
    "            result = \"win\"\n",
    "            wins = wins + 1\n",
    "         \n",
    "        elif sum_of_dices == 7:\n",
    "            result = \"lose\"\n",
    "            losses = losses + 1\n",
    "    cnt = cnt + 1\n",
    "# -------------------------------------- #\n",
    "probability = wins / cnt\n",
    "print(\"Wins\", wins)\n",
    "print(\"Games\", cnt)\n",
    "print(\"The percentage of wins is \", probability)\n"
   ]
  },
  {
   "cell_type": "markdown",
   "id": "fa42a5e9",
   "metadata": {},
   "source": []
  }
 ],
 "metadata": {
  "kernelspec": {
   "display_name": "Python 3.9.12 ('base')",
   "language": "python",
   "name": "python3"
  },
  "language_info": {
   "codemirror_mode": {
    "name": "ipython",
    "version": 3
   },
   "file_extension": ".py",
   "mimetype": "text/x-python",
   "name": "python",
   "nbconvert_exporter": "python",
   "pygments_lexer": "ipython3",
   "version": "3.9.12"
  },
  "vscode": {
   "interpreter": {
    "hash": "3d7d216620c71fab90d4afd858cd8a5172540ac69c0ab0a13faa09b0afcae5bb"
   }
  }
 },
 "nbformat": 4,
 "nbformat_minor": 5
}
