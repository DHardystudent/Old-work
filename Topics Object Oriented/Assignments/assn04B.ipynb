{
 "cells": [
  {
   "cell_type": "markdown",
   "metadata": {},
   "source": [
    "CS417 Assignment 5: A Foray Into Bioinformatics\n",
    "---\n",
    "# Instructions\n",
    "Each of the following questions is followed by empty code cell. Add your code for the question to the cell and then execute that cell.  Submit the completed notebook by putting it into your GitHub archive and note where the file can be found in your submission on Blackboard\n"
   ]
  },
  {
   "cell_type": "markdown",
   "metadata": {},
   "source": [
    "## Problem 1 (Moderate)\n",
    "We can model the mutation of genes in Python by changing\n",
    "  a randomly selecting a position in a string representing a DNA\n",
    "  molecule.\n",
    "\n",
    "  Remembering that your Glorious Instructor is NOT a molecular\n",
    "  biologist, note that DNA is a molecule of bases in a double-helix\n",
    "  structure.  We identify these bases as being of type A, C, G, and T\n",
    "  and can describe DNA in text strings composed of an alphabet that\n",
    "  contains those four letters.\n",
    "\n",
    "  A lot of what happens within the cells in your body is regulated\n",
    "  through a somewhat-poorly understood mechanism that turns things on or\n",
    "  off in the genes in your cell.  One part of this mechanism consists of\n",
    "  molecules called **transcription factors** that float around in\n",
    "  your cells and attach to DNA, and thus turning genes on and off. Yes,\n",
    "  I know that Prof. Cline and Prof. Pittman in our Biology program are\n",
    "  internally screaming in agony over this simplistic explanation,\n",
    "  but... I'm not a molecular biologist.\n",
    "\n",
    "## Example Frequency Table For Sequences TAG, GGT, and GGG\n",
    "|base|0|1|2|\n",
    "|----|-|-|-|\n",
    "|A   |0|1|0|\n",
    "|C   |0|0|0|\n",
    "|G   |2|2|2|\n",
    "|T    |1|0|1|\n",
    "\n",
    "Transcription factors will bind preferentially to specific DNA sequences\n",
    "and these binding preferences can be represented by a table of\n",
    "frequencies of given symbols of each position of a\n",
    "pattern. The table tells us that if the base A appears once\n",
    "in index 1 of a DNA string, base C does not occur at all, base G\n",
    "appears twice in all positions, and base T appears once in the beginning\n",
    "and end of the strings.\n",
    "\n",
    "Let's look at how we can store this type of frequency matrix in a Python\n",
    "program and look at how we can use to do useful (for a bioinformatics\n",
    "person) things.\n"
   ]
  },
  {
   "cell_type": "code",
   "execution_count": 1,
   "metadata": {},
   "outputs": [],
   "source": [
    "def frequencyTable(dnaList):\n",
    "    n = max([len(dna) for dna in dnaList])\n",
    "    frequency_matrix = {\n",
    "        'A': [0]*n,\n",
    "        'C': [0]*n,\n",
    "        'G': [0]*n,\n",
    "        'T': [0]*n\n",
    "        }\n",
    "    for dna in dnaList:\n",
    "        for index,base in enumerate(dna):\n",
    "            frequency_matrix[base][index] += 1\n",
    "\n",
    "    return frequency_matrix"
   ]
  },
  {
   "cell_type": "markdown",
   "metadata": {},
   "source": [
    "  Using the `random.randint()` and\n",
    "  `random.choice()` functions from the Python `random`\n",
    "  module, write a function that will mutate a DNA string. Then, use the\n",
    "  frequency table function  to analyze the changes that\n",
    "  occur in frequencies if you randomly change 100 positions in a 1000\n",
    "  gene DNA sequence.   Your program should randomly generate a DNA\n",
    "  string with 1000 bases, display the frequency table of this string,\n",
    "  apply 100 mutations to the string, and then print the frequency table\n",
    "  for the mutated string."
   ]
  },
  {
   "cell_type": "code",
   "execution_count": 14,
   "metadata": {},
   "outputs": [
    {
     "name": "stdout",
     "output_type": "stream",
     "text": [
      "Base DNA\n",
      "{'A': [253], 'C': [228], 'G': [262], 'T': [257]}\n",
      "Mutated DNA\n",
      "{'A': [252], 'C': [237], 'G': [264], 'T': [247]}\n"
     ]
    }
   ],
   "source": [
    "import random\n",
    "def dnaString(length):\n",
    "    DNA=\"\"\n",
    "    for count in range(length):\n",
    "        DNA+=random.choice(\"CGTA\")\n",
    "    return DNA\n",
    "\n",
    "def mutate(dnaList, times):\n",
    "    cnt = 0\n",
    "    temp = list(dnaList)\n",
    "    while(cnt < times):\n",
    "        index = random.randint(0, 999)\n",
    "        temp[index] = random.choice(\"CGTA\")\n",
    "        cnt = cnt + 1\n",
    "    return (\"\".join(temp))\n",
    "\n",
    "\n",
    "\n",
    "def frequencyTable(dnaList):\n",
    "    n = max([len(dna) for dna in dnaList])\n",
    "    frequency_matrix = {\n",
    "        'A': [0]*n,\n",
    "        'C': [0]*n,\n",
    "        'G': [0]*n,\n",
    "        'T': [0]*n\n",
    "        }\n",
    "    for dna in dnaList:\n",
    "        for index,base in enumerate(dna):\n",
    "            frequency_matrix[base][index] += 1\n",
    "\n",
    "    return frequency_matrix\n",
    "\n",
    "def main():\n",
    "    dna = dnaString(1000)\n",
    "    print(\"Base DNA\")\n",
    "    print(frequencyTable(dna))\n",
    "    mutateDNA = mutate(dna, 100)\n",
    "    print(\"Mutated DNA\")\n",
    "    print(frequencyTable(mutateDNA))\n",
    "    \n",
    "\n",
    "if __name__==\"__main__\":\n",
    "    main()"
   ]
  },
  {
   "cell_type": "markdown",
   "metadata": {},
   "source": [
    "## Problem 2 (Easy)\n",
    "Use the graphing functions within the `pandas` libary to build a bar chart that compares the two frequency tables from the previous problem.   You will need to construct a data frame and then tell that data frame to graph itself in a bar chart.  You can find a discussion on how to do this at the following URL: [https://www.shanelynn.ie/bar-plots-in-python-using-pandas-dataframes/](https://www.shanelynn.ie/bar-plots-in-python-using-pandas-dataframes/)"
   ]
  },
  {
   "cell_type": "code",
   "execution_count": 22,
   "metadata": {},
   "outputs": [
    {
     "data": {
      "text/plain": [
       "(array([0, 1, 2, 3]),\n",
       " [Text(0, 0, 'A'), Text(1, 0, 'C'), Text(2, 0, 'G'), Text(3, 0, 'T')])"
      ]
     },
     "execution_count": 22,
     "metadata": {},
     "output_type": "execute_result"
    },
    {
     "data": {
      "image/png": "[encoded data removed]",
      "text/plain": [
       "<Figure size 432x288 with 1 Axes>"
      ]
     },
     "metadata": {
      "needs_background": "light"
     },
     "output_type": "display_data"
    }
   ],
   "source": [
    "import pandas as pd\n",
    "from matplotlib import pyplot as plt\n",
    "plotdata = pd.DataFrame({\"DNA\": [253, 228, 262, 257], \"mDNA\": [252, 237, 264, 247]}, index=[\"A\", \"C\", \"G\", \"T\"])\n",
    "plotdata.plot(kind=\"bar\")\n",
    "plt.xticks(rotation=30, horizontalalignment=\"center\")"
   ]
  }
 ],
 "metadata": {
  "kernelspec": {
   "display_name": "Python 3.9.12 ('base')",
   "language": "python",
   "name": "python3"
  },
  "language_info": {
   "codemirror_mode": {
    "name": "ipython",
    "version": 3
   },
   "file_extension": ".py",
   "mimetype": "text/x-python",
   "name": "python",
   "nbconvert_exporter": "python",
   "pygments_lexer": "ipython3",
   "version": "3.9.12"
  },
  "vscode": {
   "interpreter": {
    "hash": "3d7d216620c71fab90d4afd858cd8a5172540ac69c0ab0a13faa09b0afcae5bb"
   }
  }
 },
 "nbformat": 4,
 "nbformat_minor": 5
}
