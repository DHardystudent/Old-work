{
 "cells": [
  {
   "cell_type": "markdown",
   "id": "63cbc0ea-7cd4-4438-bb32-5b9426d83e09",
   "metadata": {},
   "source": [
    "CS417 Assignment 4: Getting your feet wet in Python\n",
    "---\n",
    "# Instructions\n",
    "Each of the following questions is followed by empty code cell. Add your code for the question to the cell and then execute that cell.  Submit the completed notebook by saving it in your GitHub repository and note in your submission on Blackboard where I can find the file.\n"
   ]
  },
  {
   "cell_type": "markdown",
   "id": "9465d6e4-f49c-438e-9a1d-ccf418e2fed9",
   "metadata": {},
   "source": [
    "## Problem 1 (Easy)\n",
    "Write a word frequency counter: How often does each word\n",
    "  show up in an array of words? Print out a report. (Hint: Use a dictionary to\n",
    "  count of the number of appearances of each word.)"
   ]
  },
  {
   "cell_type": "code",
   "execution_count": 1,
   "id": "366de7f5-8efd-4964-afb2-12734c2142e2",
   "metadata": {},
   "outputs": [
    {
     "name": "stdout",
     "output_type": "stream",
     "text": [
      "help: 2\n",
      "my: 1\n",
      "tire: 3\n",
      "broken: 1\n",
      "is: 1\n",
      "flat: 1\n"
     ]
    }
   ],
   "source": [
    "arr = [\"help\", \"my\", \"tire\", \"help\", \"tire\", \"broken\", \"tire\", \"is\", \"flat\"]\n",
    "elmtCount = {}\n",
    "for element in arr:\n",
    "    if element in elmtCount:\n",
    "        elmtCount[element] += 1\n",
    "    else:\n",
    "        elmtCount[element] = 1\n",
    "for key, value in elmtCount.items():\n",
    "    print(f\"{key}: {value}\")"
   ]
  },
  {
   "cell_type": "markdown",
   "id": "15b4b2ce-9118-4abb-9bbf-ed787721f87c",
   "metadata": {},
   "source": [
    "## Problem 2 (Easy)\n",
    "Given a month and the day of the week that’s the first of\n",
    "  that month entered as arugments on the command line, write a program\n",
    "  that prints a calendar for the month. (HINT: Remember one of the rules of being Pythonic: *Someone else has already done it*.  Do some research to see if you can find a Python library that will help you with this problem)."
   ]
  },
  {
   "cell_type": "code",
   "execution_count": 11,
   "id": "2b365fa9-c81c-4149-9e8f-eda14255d50c",
   "metadata": {},
   "outputs": [
    {
     "name": "stdout",
     "output_type": "stream",
     "text": [
      "     June 2022\n",
      "Mo Tu We Th Fr Sa Su\n",
      "       1  2  3  4  5\n",
      " 6  7  8  9 10 11 12\n",
      "13 14 15 16 17 18 19\n",
      "20 21 22 23 24 25 26\n",
      "27 28 29 30\n",
      "\n"
     ]
    }
   ],
   "source": [
    "# https://stackoverflow.com/questions/27675323/get-month-by-week-day-and-year\n",
    "import sys\n",
    "import calendar\n",
    "cDay = int(input())\n",
    "cMonth = int(input())\n",
    "printCal = calendar.TextCalendar(cDay)\n",
    "print(printCal.formatmonth(2022, cMonth))"
   ]
  },
  {
   "cell_type": "markdown",
   "id": "a7e29bca-2e3e-4cb2-a768-47215582850e",
   "metadata": {},
   "source": [
    "## Problem 3 (Easy)\n",
    "Write a function that counts the the characters in a\n",
    "  string input by the user.  Write a main function that calls this\n",
    "  function and displays the string and number of characters."
   ]
  },
  {
   "cell_type": "code",
   "execution_count": 12,
   "id": "f6189d14-e493-4473-a9cd-bffc9560160c",
   "metadata": {},
   "outputs": [
    {
     "name": "stdout",
     "output_type": "stream",
     "text": [
      "Your input :  So far I'm liking python\n",
      "Count of char : 19\n"
     ]
    }
   ],
   "source": [
    "#https://www.geeksforgeeks.org/python-program-to-count-the-number-of-characters-in-a-string/\n",
    "def countChar(inStr):\n",
    "    res = len([ele for ele in inStr if ele.isalpha()])\n",
    "    print(\"Count of char : \" + str(res))\n",
    "\n",
    "def main():\n",
    "    myStr = input(\"Type a sentence\")\n",
    "    print(\"Your input : \", myStr)\n",
    "    countChar(myStr)\n",
    "\n",
    "\n",
    "if __name__==\"__main__\":\n",
    "    main()"
   ]
  },
  {
   "cell_type": "markdown",
   "id": "d460ad3f",
   "metadata": {},
   "source": [
    "# Problem 4 (Moderate, but Painfully Simple)\n",
    "\n",
    "You are writing a test framework in Python and you need to determine what are the attributes and methods of an object.    Write a function (whose body, if you're careful about it, need only be a single statement) that returns a list of the attributes and methods of an object passed to it as an argument."
   ]
  },
  {
   "cell_type": "code",
   "execution_count": 22,
   "id": "6dcfd557",
   "metadata": {},
   "outputs": [
    {
     "name": "stdout",
     "output_type": "stream",
     "text": [
      "['__class__', '__delattr__', '__dict__', '__dir__', '__doc__', '__eq__', '__format__', '__ge__', '__getattribute__', '__gt__', '__hash__', '__init__', '__init_subclass__', '__le__', '__lt__', '__module__', '__ne__', '__new__', '__reduce__', '__reduce_ex__', '__repr__', '__setattr__', '__sizeof__', '__str__', '__subclasshook__', '__weakref__', 'defn', 'name', 'nbr']\n"
     ]
    }
   ],
   "source": [
    "class issue:\n",
    "    name = \"Broken\"\n",
    "    nbr = 24\n",
    "    defn = \"It just broke man\"\n",
    "\n",
    "def attributes(object):\n",
    "    return dir(object)\n",
    "\n",
    "def main():\n",
    "    thing = issue()\n",
    "    aList= attributes(thing)\n",
    "    print(aList)\n",
    "\n",
    "\n",
    "if __name__==\"__main__\":\n",
    "    main()"
   ]
  },
  {
   "cell_type": "markdown",
   "id": "72dc799e",
   "metadata": {},
   "source": [
    "# Problem 5 (Moderate)\n",
    "\n",
    "One can parse a fully-parenthesized in-fix expression using two stacks: an operand stack and an operator stack.   You traverse your way through a string containing such an expression and push numbers onto the operand stack and operators onto the operator stack.   When you see a right parenthsis character,  pop two numbers off of the operand stack and pop an operator off of the operator stack, do the operation (add, subtract, multiply, or divide), and push the result back onto the operand stack.   When you reach the end of the expression string, the number on the top of the operand stack is the result (assuming a correctly formatted expression).\n",
    "\n",
    "Write a function in Python that, given a fully-parenthesized in-fix expression in a string, returns the result of evaluating that expression."
   ]
  },
  {
   "cell_type": "code",
   "execution_count": 31,
   "id": "3a5e579f",
   "metadata": {},
   "outputs": [
    {
     "name": "stdout",
     "output_type": "stream",
     "text": [
      "(((4*4)/8)-1)\n",
      "1.0\n"
     ]
    }
   ],
   "source": [
    "def evalInfix(val):\n",
    "    opand= []\n",
    "    opor= []\n",
    "    for n in val:\n",
    "        if n!=\")\":\n",
    "            if n.isdigit() == True:\n",
    "                opand.append(n)\n",
    "            else:\n",
    "                opor.append(n)\n",
    "        if n==\")\":\n",
    "            num = str(opand.pop())\n",
    "            math = opand.pop() + opor.pop() + num\n",
    "            opor.pop()\n",
    "            calc = eval(math)\n",
    "            opand.append(str(calc))\n",
    "    return opand.pop()\n",
    "\n",
    "def main():\n",
    "    expr = input(\"Enter math here:\")\n",
    "    tokens = map(str, expr)\n",
    "    print(expr)\n",
    "    print(evalInfix(tokens))\n",
    "\n",
    "\n",
    "if __name__==\"__main__\":\n",
    "    main()"
   ]
  }
 ],
 "metadata": {
  "kernelspec": {
   "display_name": "Python 3.9.12 ('base')",
   "language": "python",
   "name": "python3"
  },
  "language_info": {
   "codemirror_mode": {
    "name": "ipython",
    "version": 3
   },
   "file_extension": ".py",
   "mimetype": "text/x-python",
   "name": "python",
   "nbconvert_exporter": "python",
   "pygments_lexer": "ipython3",
   "version": "3.9.12"
  },
  "vscode": {
   "interpreter": {
    "hash": "3d7d216620c71fab90d4afd858cd8a5172540ac69c0ab0a13faa09b0afcae5bb"
   }
  }
 },
 "nbformat": 4,
 "nbformat_minor": 5
}
